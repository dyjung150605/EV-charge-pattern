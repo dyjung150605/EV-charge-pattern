{
 "cells": [
  {
   "cell_type": "code",
   "execution_count": null,
   "metadata": {},
   "outputs": [],
   "source": []
  }
 ],
 "metadata": {
  "kernelspec": {
   "display_name": "Python 3.10.2 64-bit",
   "language": "python",
   "name": "python3"
  },
  "language_info": {
   "name": "python",
   "version": "3.10.2"
  },
  "orig_nbformat": 4,
  "vscode": {
   "interpreter": {
    "hash": "2c39601d5bd6f480f852c9dfdd65eafac66807e8d659d9e0b45470632b4f6a62"
   }
  }
 },
 "nbformat": 4,
 "nbformat_minor": 2
}
